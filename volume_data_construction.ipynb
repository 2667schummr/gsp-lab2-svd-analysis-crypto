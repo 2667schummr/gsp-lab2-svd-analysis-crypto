{
 "cells": [
  {
   "cell_type": "code",
   "execution_count": 1,
   "metadata": {},
   "outputs": [],
   "source": [
    "import MySQLdb as mdb\n",
    "import pandas as pd\n",
    "import numpy as np\n",
    "from datetime import datetime\n",
    "from pytz import timezone"
   ]
  },
  {
   "cell_type": "code",
   "execution_count": 2,
   "metadata": {},
   "outputs": [],
   "source": [
    "# Create database connection\n",
    "db_host = 'localhost'\n",
    "db_user = 'crypto_user'\n",
    "db_pass = 'Blue0811'\n",
    "db_name = 'cryptocurrencies_master'\n",
    "db_connection = mdb.connect(host=db_host, user=db_user,\n",
    "                            passwd=db_pass, db=db_name)"
   ]
  },
  {
   "cell_type": "code",
   "execution_count": 3,
   "metadata": {},
   "outputs": [
    {
     "name": "stdout",
     "output_type": "stream",
     "text": [
      "Crypto-Pairs from 1-minute Data Table:\n",
      "BCH-USD\n",
      "BTC-USD\n",
      "ETH-USD\n",
      "LTC-USD\n"
     ]
    }
   ],
   "source": [
    "# Extract cryptocurrency trading pairs from price_1min table\n",
    "with db_connection.cursor() as cur:\n",
    "    cur.execute('SELECT DISTINCT id FROM price_1min;')\n",
    "    crypto_pairs = list(cur.fetchall())\n",
    "print('Crypto-Pairs from 1-minute Data Table:')\n",
    "for pair in crypto_pairs:\n",
    "    print(pair[0])"
   ]
  },
  {
   "cell_type": "code",
   "execution_count": 4,
   "metadata": {},
   "outputs": [],
   "source": [
    "# Define function to transform unix timestamps to trading day indicies\n",
    "def stamp_to_trading_day(timestamp):\n",
    "    date = datetime.fromtimestamp(timestamp).astimezone(timezone('UTC'))\n",
    "    minute = date.hour*60 + date.minute\n",
    "    return (date.month, date.day, minute)"
   ]
  },
  {
   "cell_type": "code",
   "execution_count": 5,
   "metadata": {},
   "outputs": [
    {
     "name": "stdout",
     "output_type": "stream",
     "text": [
      "query:\n",
      "SELECT price_date, volume \n",
      "FROM price_1min \n",
      "WHERE id = \"BCH-USD\" AND (price_date >= 1572566400 AND price_date < 1583020800)\n",
      "ORDER BY price_date;\n",
      "\n",
      "query:\n",
      "SELECT price_date, volume \n",
      "FROM price_1min \n",
      "WHERE id = \"BTC-USD\" AND (price_date >= 1572566400 AND price_date < 1583020800)\n",
      "ORDER BY price_date;\n",
      "\n",
      "query:\n",
      "SELECT price_date, volume \n",
      "FROM price_1min \n",
      "WHERE id = \"ETH-USD\" AND (price_date >= 1572566400 AND price_date < 1583020800)\n",
      "ORDER BY price_date;\n",
      "\n",
      "query:\n",
      "SELECT price_date, volume \n",
      "FROM price_1min \n",
      "WHERE id = \"LTC-USD\" AND (price_date >= 1572566400 AND price_date < 1583020800)\n",
      "ORDER BY price_date;\n",
      "\n"
     ]
    }
   ],
   "source": [
    "# Obtain volume data for each currency fom database\n",
    "unix_start = 1572566400\n",
    "unix_end = 1583020800\n",
    "crypto_data = {}\n",
    "\n",
    "for pair in crypto_pairs:\n",
    "    pair = pair[0]\n",
    "    with db_connection.cursor() as cur:\n",
    "        execution_str = 'SELECT price_date, volume \\nFROM price_1min \\nWHERE id = \"{}\" AND '.format(pair)\n",
    "        execution_str += '(price_date >= {} AND price_date < {})\\n'.format(unix_start, unix_end)\n",
    "        execution_str += 'ORDER BY price_date;'\n",
    "        print('query:\\n{}\\n'.format(execution_str))\n",
    "        cur.execute(execution_str)\n",
    "        data = list(cur.fetchall())\n",
    "    crypto_data[pair] = pd.DataFrame(data, columns=('price_date', 'volume'))\n",
    "    crypto_data[pair]['price_date'] = crypto_data[pair]['price_date'].apply(stamp_to_trading_day)\n",
    "    crypto_data[pair] = crypto_data[pair].set_index('price_date')"
   ]
  },
  {
   "cell_type": "code",
   "execution_count": 6,
   "metadata": {},
   "outputs": [],
   "source": [
    "# Define the trading day indicies\n",
    "trading_days = []\n",
    "for m, n in ((11, 30), (12, 31), (1, 31), (2, 29)):\n",
    "    trading_days += [(m, i) for i in range(1, n + 1)]\n",
    "    \n",
    "volume_cryptos = pd.DataFrame(columns=trading_days, index=range(0, 1440))"
   ]
  },
  {
   "cell_type": "code",
   "execution_count": 7,
   "metadata": {},
   "outputs": [],
   "source": [
    "# Define function to compute the average volume for each trading day and minute \n",
    "def compute_vol_avg(trading_stamp, crypto_data):\n",
    "    total_vol = 0\n",
    "    for pair in crypto_data.keys():\n",
    "        if crypto_data[pair].index.contains(trading_stamp):\n",
    "            total_vol += crypto_data[pair]['volume'][trading_stamp]\n",
    "        else:\n",
    "            total_vol += 0\n",
    "    return total_vol / len(crypto_data.keys())"
   ]
  },
  {
   "cell_type": "code",
   "execution_count": 8,
   "metadata": {},
   "outputs": [
    {
     "name": "stderr",
     "output_type": "stream",
     "text": [
      "/usr/local/lib/python3.6/dist-packages/ipykernel_launcher.py:5: FutureWarning: The 'contains' method is deprecated and will be removed in a future version. Use 'key in index' instead of 'index.contains(key)'\n",
      "  \"\"\"\n"
     ]
    }
   ],
   "source": [
    "# Compute volume data for the volume_cryptos table\n",
    "for day in volume_cryptos.columns:\n",
    "    for minute in volume_cryptos.index:\n",
    "        trading_stamp = day + (minute,)\n",
    "        volume_cryptos[day][minute] = compute_vol_avg(trading_stamp, crypto_data)"
   ]
  },
  {
   "cell_type": "code",
   "execution_count": 9,
   "metadata": {},
   "outputs": [
    {
     "name": "stdout",
     "output_type": "stream",
     "text": [
      "Data Shape: (1440, 121)\n"
     ]
    },
    {
     "data": {
      "text/html": [
       "<div>\n",
       "<style scoped>\n",
       "    .dataframe tbody tr th:only-of-type {\n",
       "        vertical-align: middle;\n",
       "    }\n",
       "\n",
       "    .dataframe tbody tr th {\n",
       "        vertical-align: top;\n",
       "    }\n",
       "\n",
       "    .dataframe thead th {\n",
       "        text-align: right;\n",
       "    }\n",
       "</style>\n",
       "<table border=\"1\" class=\"dataframe\">\n",
       "  <thead>\n",
       "    <tr style=\"text-align: right;\">\n",
       "      <th></th>\n",
       "      <th>(11, 1)</th>\n",
       "      <th>(11, 2)</th>\n",
       "      <th>(11, 3)</th>\n",
       "      <th>(11, 4)</th>\n",
       "      <th>(11, 5)</th>\n",
       "      <th>(11, 6)</th>\n",
       "      <th>(11, 7)</th>\n",
       "      <th>(11, 8)</th>\n",
       "      <th>(11, 9)</th>\n",
       "      <th>(11, 10)</th>\n",
       "      <th>...</th>\n",
       "      <th>(2, 20)</th>\n",
       "      <th>(2, 21)</th>\n",
       "      <th>(2, 22)</th>\n",
       "      <th>(2, 23)</th>\n",
       "      <th>(2, 24)</th>\n",
       "      <th>(2, 25)</th>\n",
       "      <th>(2, 26)</th>\n",
       "      <th>(2, 27)</th>\n",
       "      <th>(2, 28)</th>\n",
       "      <th>(2, 29)</th>\n",
       "    </tr>\n",
       "  </thead>\n",
       "  <tbody>\n",
       "    <tr>\n",
       "      <td>0</td>\n",
       "      <td>8.97077</td>\n",
       "      <td>9.52448</td>\n",
       "      <td>27.7077</td>\n",
       "      <td>28.2831</td>\n",
       "      <td>54.9851</td>\n",
       "      <td>78.7985</td>\n",
       "      <td>24.0819</td>\n",
       "      <td>33.2921</td>\n",
       "      <td>63.0435</td>\n",
       "      <td>6.37282</td>\n",
       "      <td>...</td>\n",
       "      <td>240.041</td>\n",
       "      <td>34.5393</td>\n",
       "      <td>16.8097</td>\n",
       "      <td>20.9787</td>\n",
       "      <td>146.763</td>\n",
       "      <td>243.769</td>\n",
       "      <td>346.125</td>\n",
       "      <td>132.473</td>\n",
       "      <td>163.899</td>\n",
       "      <td>72.0337</td>\n",
       "    </tr>\n",
       "    <tr>\n",
       "      <td>1</td>\n",
       "      <td>43.6276</td>\n",
       "      <td>213.665</td>\n",
       "      <td>61.8671</td>\n",
       "      <td>21.0084</td>\n",
       "      <td>21.4793</td>\n",
       "      <td>18.5754</td>\n",
       "      <td>77.7306</td>\n",
       "      <td>12.5094</td>\n",
       "      <td>72.7155</td>\n",
       "      <td>6.57368</td>\n",
       "      <td>...</td>\n",
       "      <td>186.461</td>\n",
       "      <td>138.815</td>\n",
       "      <td>82.3437</td>\n",
       "      <td>1.63956</td>\n",
       "      <td>132.843</td>\n",
       "      <td>29.1683</td>\n",
       "      <td>201.189</td>\n",
       "      <td>972.228</td>\n",
       "      <td>239.794</td>\n",
       "      <td>26.4632</td>\n",
       "    </tr>\n",
       "    <tr>\n",
       "      <td>2</td>\n",
       "      <td>11.6722</td>\n",
       "      <td>40.4598</td>\n",
       "      <td>33.2271</td>\n",
       "      <td>8.03392</td>\n",
       "      <td>10.453</td>\n",
       "      <td>11.5149</td>\n",
       "      <td>203.406</td>\n",
       "      <td>4.09453</td>\n",
       "      <td>2.22694</td>\n",
       "      <td>4.11494</td>\n",
       "      <td>...</td>\n",
       "      <td>421.362</td>\n",
       "      <td>86.2996</td>\n",
       "      <td>78.2372</td>\n",
       "      <td>5.75314</td>\n",
       "      <td>549.869</td>\n",
       "      <td>113.372</td>\n",
       "      <td>177.432</td>\n",
       "      <td>405.982</td>\n",
       "      <td>63.7563</td>\n",
       "      <td>35.4816</td>\n",
       "    </tr>\n",
       "    <tr>\n",
       "      <td>3</td>\n",
       "      <td>31.1001</td>\n",
       "      <td>5.30367</td>\n",
       "      <td>21.1073</td>\n",
       "      <td>1.75745</td>\n",
       "      <td>168.712</td>\n",
       "      <td>21.6921</td>\n",
       "      <td>13.9024</td>\n",
       "      <td>54.2846</td>\n",
       "      <td>1.26975</td>\n",
       "      <td>45.7626</td>\n",
       "      <td>...</td>\n",
       "      <td>435.134</td>\n",
       "      <td>35.3558</td>\n",
       "      <td>55.9405</td>\n",
       "      <td>256.768</td>\n",
       "      <td>204.554</td>\n",
       "      <td>37.7803</td>\n",
       "      <td>121.499</td>\n",
       "      <td>131.741</td>\n",
       "      <td>44.9759</td>\n",
       "      <td>26.2666</td>\n",
       "    </tr>\n",
       "    <tr>\n",
       "      <td>4</td>\n",
       "      <td>7.15688</td>\n",
       "      <td>3.05717</td>\n",
       "      <td>79.5344</td>\n",
       "      <td>7.33955</td>\n",
       "      <td>24.5172</td>\n",
       "      <td>5.23118</td>\n",
       "      <td>13.1275</td>\n",
       "      <td>12.9724</td>\n",
       "      <td>88.4375</td>\n",
       "      <td>11.0792</td>\n",
       "      <td>...</td>\n",
       "      <td>138.428</td>\n",
       "      <td>28.5055</td>\n",
       "      <td>4.95093</td>\n",
       "      <td>17.0059</td>\n",
       "      <td>176.265</td>\n",
       "      <td>31.8712</td>\n",
       "      <td>158.496</td>\n",
       "      <td>105.506</td>\n",
       "      <td>56.4955</td>\n",
       "      <td>291.459</td>\n",
       "    </tr>\n",
       "  </tbody>\n",
       "</table>\n",
       "<p>5 rows × 121 columns</p>\n",
       "</div>"
      ],
      "text/plain": [
       "   (11, 1)  (11, 2)  (11, 3)  (11, 4)  (11, 5)  (11, 6)  (11, 7)  (11, 8)  \\\n",
       "0  8.97077  9.52448  27.7077  28.2831  54.9851  78.7985  24.0819  33.2921   \n",
       "1  43.6276  213.665  61.8671  21.0084  21.4793  18.5754  77.7306  12.5094   \n",
       "2  11.6722  40.4598  33.2271  8.03392   10.453  11.5149  203.406  4.09453   \n",
       "3  31.1001  5.30367  21.1073  1.75745  168.712  21.6921  13.9024  54.2846   \n",
       "4  7.15688  3.05717  79.5344  7.33955  24.5172  5.23118  13.1275  12.9724   \n",
       "\n",
       "   (11, 9) (11, 10)  ...  (2, 20)  (2, 21)  (2, 22)  (2, 23)  (2, 24)  \\\n",
       "0  63.0435  6.37282  ...  240.041  34.5393  16.8097  20.9787  146.763   \n",
       "1  72.7155  6.57368  ...  186.461  138.815  82.3437  1.63956  132.843   \n",
       "2  2.22694  4.11494  ...  421.362  86.2996  78.2372  5.75314  549.869   \n",
       "3  1.26975  45.7626  ...  435.134  35.3558  55.9405  256.768  204.554   \n",
       "4  88.4375  11.0792  ...  138.428  28.5055  4.95093  17.0059  176.265   \n",
       "\n",
       "   (2, 25)  (2, 26)  (2, 27)  (2, 28)  (2, 29)  \n",
       "0  243.769  346.125  132.473  163.899  72.0337  \n",
       "1  29.1683  201.189  972.228  239.794  26.4632  \n",
       "2  113.372  177.432  405.982  63.7563  35.4816  \n",
       "3  37.7803  121.499  131.741  44.9759  26.2666  \n",
       "4  31.8712  158.496  105.506  56.4955  291.459  \n",
       "\n",
       "[5 rows x 121 columns]"
      ]
     },
     "execution_count": 9,
     "metadata": {},
     "output_type": "execute_result"
    }
   ],
   "source": [
    "print('Data Shape: {}'.format(volume_cryptos.shape))\n",
    "volume_cryptos.head()"
   ]
  },
  {
   "cell_type": "code",
   "execution_count": 10,
   "metadata": {},
   "outputs": [
    {
     "name": "stderr",
     "output_type": "stream",
     "text": [
      "/home/ryan/.local/lib/python3.6/site-packages/pandas/core/series.py:1152: FutureWarning: \n",
      "Passing list-likes to .loc or [] with any missing label will raise\n",
      "KeyError in the future, you can use .reindex() as an alternative.\n",
      "\n",
      "See the documentation here:\n",
      "https://pandas.pydata.org/pandas-docs/stable/user_guide/indexing.html#deprecate-loc-reindex-listlike\n",
      "  return self.loc[key]\n"
     ]
    }
   ],
   "source": [
    "# Compute volume data for the volume_cryptos table\n",
    "volume_days = pd.DataFrame(columns=crypto_data.keys(), index=range(1440))\n",
    "minutes = range(24*60)\n",
    "trading_minutes = {minute: [day + (minute,) for day in trading_days] for minute in minutes}\n",
    "for pair in crypto_data.keys():\n",
    "    for minute in minutes:\n",
    "        volume_days[pair][minute] = crypto_data[pair]['volume'][trading_minutes[minute]].mean()"
   ]
  },
  {
   "cell_type": "code",
   "execution_count": 11,
   "metadata": {},
   "outputs": [
    {
     "name": "stdout",
     "output_type": "stream",
     "text": [
      "Data Shape: (1440, 4)\n"
     ]
    },
    {
     "data": {
      "text/html": [
       "<div>\n",
       "<style scoped>\n",
       "    .dataframe tbody tr th:only-of-type {\n",
       "        vertical-align: middle;\n",
       "    }\n",
       "\n",
       "    .dataframe tbody tr th {\n",
       "        vertical-align: top;\n",
       "    }\n",
       "\n",
       "    .dataframe thead th {\n",
       "        text-align: right;\n",
       "    }\n",
       "</style>\n",
       "<table border=\"1\" class=\"dataframe\">\n",
       "  <thead>\n",
       "    <tr style=\"text-align: right;\">\n",
       "      <th></th>\n",
       "      <th>BCH-USD</th>\n",
       "      <th>BTC-USD</th>\n",
       "      <th>ETH-USD</th>\n",
       "      <th>LTC-USD</th>\n",
       "    </tr>\n",
       "  </thead>\n",
       "  <tbody>\n",
       "    <tr>\n",
       "      <td>0</td>\n",
       "      <td>53.5413</td>\n",
       "      <td>22.1059</td>\n",
       "      <td>167.07</td>\n",
       "      <td>241.191</td>\n",
       "    </tr>\n",
       "    <tr>\n",
       "      <td>1</td>\n",
       "      <td>44.7915</td>\n",
       "      <td>14.4794</td>\n",
       "      <td>105.412</td>\n",
       "      <td>177.137</td>\n",
       "    </tr>\n",
       "    <tr>\n",
       "      <td>2</td>\n",
       "      <td>32.0813</td>\n",
       "      <td>12.0744</td>\n",
       "      <td>108.982</td>\n",
       "      <td>166.337</td>\n",
       "    </tr>\n",
       "    <tr>\n",
       "      <td>3</td>\n",
       "      <td>31.7929</td>\n",
       "      <td>13.0342</td>\n",
       "      <td>95.402</td>\n",
       "      <td>127.053</td>\n",
       "    </tr>\n",
       "    <tr>\n",
       "      <td>4</td>\n",
       "      <td>25.0684</td>\n",
       "      <td>9.5097</td>\n",
       "      <td>73.9908</td>\n",
       "      <td>110.165</td>\n",
       "    </tr>\n",
       "  </tbody>\n",
       "</table>\n",
       "</div>"
      ],
      "text/plain": [
       "   BCH-USD  BTC-USD  ETH-USD  LTC-USD\n",
       "0  53.5413  22.1059   167.07  241.191\n",
       "1  44.7915  14.4794  105.412  177.137\n",
       "2  32.0813  12.0744  108.982  166.337\n",
       "3  31.7929  13.0342   95.402  127.053\n",
       "4  25.0684   9.5097  73.9908  110.165"
      ]
     },
     "execution_count": 11,
     "metadata": {},
     "output_type": "execute_result"
    }
   ],
   "source": [
    "print('Data Shape: {}'.format(volume_days.shape))\n",
    "volume_days.head()"
   ]
  },
  {
   "cell_type": "code",
   "execution_count": 12,
   "metadata": {},
   "outputs": [],
   "source": [
    "# Write volume data tables to pickle files\n",
    "volume_cryptos.to_pickle('./volume_cryptos.pkl')\n",
    "volume_days.to_pickle('./volume_days.pkl')"
   ]
  }
 ],
 "metadata": {
  "kernelspec": {
   "display_name": "Python 3",
   "language": "python",
   "name": "python3"
  },
  "language_info": {
   "codemirror_mode": {
    "name": "ipython",
    "version": 3
   },
   "file_extension": ".py",
   "mimetype": "text/x-python",
   "name": "python",
   "nbconvert_exporter": "python",
   "pygments_lexer": "ipython3",
   "version": "3.6.9"
  }
 },
 "nbformat": 4,
 "nbformat_minor": 2
}
