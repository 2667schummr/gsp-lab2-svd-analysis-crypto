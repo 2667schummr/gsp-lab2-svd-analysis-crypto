{
 "cells": [
  {
   "cell_type": "code",
   "execution_count": 1,
   "metadata": {},
   "outputs": [],
   "source": [
    "import MySQLdb as mdb\n",
    "import pandas as pd\n",
    "import numpy as np\n",
    "from datetime import datetime\n",
    "from pytz import timezone"
   ]
  },
  {
   "cell_type": "code",
   "execution_count": 2,
   "metadata": {},
   "outputs": [],
   "source": [
    "# Create database connection\n",
    "db_host = 'localhost'\n",
    "db_user = 'crypto_user'\n",
    "db_pass = 'Blue0811'\n",
    "db_name = 'cryptocurrencies_master'\n",
    "db_connection = mdb.connect(host=db_host, user=db_user,\n",
    "                            passwd=db_pass, db=db_name)"
   ]
  },
  {
   "cell_type": "code",
   "execution_count": 3,
   "metadata": {},
   "outputs": [
    {
     "name": "stdout",
     "output_type": "stream",
     "text": [
      "Crypto-Pairs from 1-minute Data Table:\n",
      "BCH-USD\n",
      "BTC-USD\n",
      "ETH-USD\n",
      "LTC-USD\n"
     ]
    }
   ],
   "source": [
    "# Extract cryptocurrency trading pairs from price_1min table\n",
    "with db_connection.cursor() as cur:\n",
    "    cur.execute('SELECT DISTINCT id FROM price_1min;')\n",
    "    crypto_pairs = list(cur.fetchall())\n",
    "print('Crypto-Pairs from 1-minute Data Table:')\n",
    "for pair in crypto_pairs:\n",
    "    print(pair[0])"
   ]
  },
  {
   "cell_type": "code",
   "execution_count": 4,
   "metadata": {},
   "outputs": [],
   "source": [
    "# Define function to transform unix timestamps to trading day indicies\n",
    "def stamp_to_trading_day(timestamp):\n",
    "    date = datetime.fromtimestamp(timestamp).astimezone(timezone('UTC'))\n",
    "    minute = date.hour*60 + date.minute\n",
    "    return (date.month, date.day, minute)"
   ]
  },
  {
   "cell_type": "code",
   "execution_count": 7,
   "metadata": {},
   "outputs": [
    {
     "name": "stdout",
     "output_type": "stream",
     "text": [
      "query:\n",
      "SELECT price_date, volume \n",
      "FROM price_1min \n",
      "WHERE id = \"BCH-USD\" AND (price_date >= 1577836800 AND price_date < 1585008000)\n",
      "ORDER BY price_date;\n",
      "\n",
      "query:\n",
      "SELECT price_date, volume \n",
      "FROM price_1min \n",
      "WHERE id = \"BTC-USD\" AND (price_date >= 1577836800 AND price_date < 1585008000)\n",
      "ORDER BY price_date;\n",
      "\n",
      "query:\n",
      "SELECT price_date, volume \n",
      "FROM price_1min \n",
      "WHERE id = \"ETH-USD\" AND (price_date >= 1577836800 AND price_date < 1585008000)\n",
      "ORDER BY price_date;\n",
      "\n",
      "query:\n",
      "SELECT price_date, volume \n",
      "FROM price_1min \n",
      "WHERE id = \"LTC-USD\" AND (price_date >= 1577836800 AND price_date < 1585008000)\n",
      "ORDER BY price_date;\n",
      "\n"
     ]
    }
   ],
   "source": [
    "# Obtain volume data for each currency fom database\n",
    "unix_start = 1577836800\n",
    "unix_end = 1585008000\n",
    "crypto_data = {}\n",
    "\n",
    "for pair in crypto_pairs:\n",
    "    pair = pair[0]\n",
    "    with db_connection.cursor() as cur:\n",
    "        execution_str = 'SELECT price_date, volume \\nFROM price_1min \\nWHERE id = \"{}\" AND '.format(pair)\n",
    "        execution_str += '(price_date >= {} AND price_date < {})\\n'.format(unix_start, unix_end)\n",
    "        execution_str += 'ORDER BY price_date;'\n",
    "        print('query:\\n{}\\n'.format(execution_str))\n",
    "        cur.execute(execution_str)\n",
    "        data = list(cur.fetchall())\n",
    "    crypto_data[pair] = pd.DataFrame(data, columns=('price_date', 'volume'))\n",
    "    crypto_data[pair]['price_date'] = crypto_data[pair]['price_date'].apply(stamp_to_trading_day)\n",
    "    crypto_data[pair] = crypto_data[pair].set_index('price_date')"
   ]
  },
  {
   "cell_type": "code",
   "execution_count": 8,
   "metadata": {},
   "outputs": [],
   "source": [
    "# Define the trading day indicies\n",
    "trading_days = []\n",
    "for m, n in ((1, 31), (2, 29), (3, 23)):\n",
    "    trading_days += [(m, i) for i in range(1, n + 1)]\n",
    "    \n",
    "volume_cryptos = pd.DataFrame(columns=trading_days, index=range(0, 1440))"
   ]
  },
  {
   "cell_type": "code",
   "execution_count": 9,
   "metadata": {},
   "outputs": [],
   "source": [
    "# Define function to compute the average volume for each trading day and minute \n",
    "def compute_vol_avg(trading_stamp, crypto_data):\n",
    "    total_vol = 0\n",
    "    for pair in crypto_data.keys():\n",
    "        if crypto_data[pair].index.contains(trading_stamp):\n",
    "            total_vol += crypto_data[pair]['volume'][trading_stamp]\n",
    "        else:\n",
    "            total_vol += 0\n",
    "    return total_vol / len(crypto_data.keys())"
   ]
  },
  {
   "cell_type": "code",
   "execution_count": 10,
   "metadata": {},
   "outputs": [
    {
     "name": "stderr",
     "output_type": "stream",
     "text": [
      "/usr/local/lib/python3.6/dist-packages/ipykernel_launcher.py:5: FutureWarning: The 'contains' method is deprecated and will be removed in a future version. Use 'key in index' instead of 'index.contains(key)'\n",
      "  \"\"\"\n"
     ]
    }
   ],
   "source": [
    "# Compute volume data for the volume_cryptos table\n",
    "for day in volume_cryptos.columns:\n",
    "    for minute in volume_cryptos.index:\n",
    "        trading_stamp = day + (minute,)\n",
    "        volume_cryptos[day][minute] = compute_vol_avg(trading_stamp, crypto_data)"
   ]
  },
  {
   "cell_type": "code",
   "execution_count": 12,
   "metadata": {},
   "outputs": [
    {
     "name": "stdout",
     "output_type": "stream",
     "text": [
      "Data Shape: (1440, 83)\n"
     ]
    },
    {
     "data": {
      "text/html": [
       "<div>\n",
       "<style scoped>\n",
       "    .dataframe tbody tr th:only-of-type {\n",
       "        vertical-align: middle;\n",
       "    }\n",
       "\n",
       "    .dataframe tbody tr th {\n",
       "        vertical-align: top;\n",
       "    }\n",
       "\n",
       "    .dataframe thead th {\n",
       "        text-align: right;\n",
       "    }\n",
       "</style>\n",
       "<table border=\"1\" class=\"dataframe\">\n",
       "  <thead>\n",
       "    <tr style=\"text-align: right;\">\n",
       "      <th></th>\n",
       "      <th>(1, 1)</th>\n",
       "      <th>(1, 2)</th>\n",
       "      <th>(1, 3)</th>\n",
       "      <th>(1, 4)</th>\n",
       "      <th>(1, 5)</th>\n",
       "      <th>(1, 6)</th>\n",
       "      <th>(1, 7)</th>\n",
       "      <th>(1, 8)</th>\n",
       "      <th>(1, 9)</th>\n",
       "      <th>(1, 10)</th>\n",
       "      <th>...</th>\n",
       "      <th>(3, 14)</th>\n",
       "      <th>(3, 15)</th>\n",
       "      <th>(3, 16)</th>\n",
       "      <th>(3, 17)</th>\n",
       "      <th>(3, 18)</th>\n",
       "      <th>(3, 19)</th>\n",
       "      <th>(3, 20)</th>\n",
       "      <th>(3, 21)</th>\n",
       "      <th>(3, 22)</th>\n",
       "      <th>(3, 23)</th>\n",
       "    </tr>\n",
       "  </thead>\n",
       "  <tbody>\n",
       "    <tr>\n",
       "      <td>0</td>\n",
       "      <td>15.4148</td>\n",
       "      <td>5.74462</td>\n",
       "      <td>9.84048</td>\n",
       "      <td>133.17</td>\n",
       "      <td>231.889</td>\n",
       "      <td>14.1383</td>\n",
       "      <td>54.1864</td>\n",
       "      <td>294.255</td>\n",
       "      <td>30.4932</td>\n",
       "      <td>3.63267</td>\n",
       "      <td>...</td>\n",
       "      <td>152.932</td>\n",
       "      <td>94.3192</td>\n",
       "      <td>75.45</td>\n",
       "      <td>1447.1</td>\n",
       "      <td>1165.97</td>\n",
       "      <td>300.085</td>\n",
       "      <td>700.473</td>\n",
       "      <td>51.8646</td>\n",
       "      <td>147.664</td>\n",
       "      <td>297.986</td>\n",
       "    </tr>\n",
       "    <tr>\n",
       "      <td>1</td>\n",
       "      <td>39.561</td>\n",
       "      <td>13.6749</td>\n",
       "      <td>6.09118</td>\n",
       "      <td>29.7348</td>\n",
       "      <td>367.953</td>\n",
       "      <td>1.36042</td>\n",
       "      <td>8.72272</td>\n",
       "      <td>60.3593</td>\n",
       "      <td>26.2082</td>\n",
       "      <td>2.83987</td>\n",
       "      <td>...</td>\n",
       "      <td>0</td>\n",
       "      <td>53.7927</td>\n",
       "      <td>302.534</td>\n",
       "      <td>597.365</td>\n",
       "      <td>227.328</td>\n",
       "      <td>2080.33</td>\n",
       "      <td>200.396</td>\n",
       "      <td>108.703</td>\n",
       "      <td>197.378</td>\n",
       "      <td>0</td>\n",
       "    </tr>\n",
       "    <tr>\n",
       "      <td>2</td>\n",
       "      <td>34.7409</td>\n",
       "      <td>6.07106</td>\n",
       "      <td>7.77497</td>\n",
       "      <td>158.906</td>\n",
       "      <td>164.252</td>\n",
       "      <td>2.72117</td>\n",
       "      <td>32.6313</td>\n",
       "      <td>49.8616</td>\n",
       "      <td>25.4066</td>\n",
       "      <td>20.7674</td>\n",
       "      <td>...</td>\n",
       "      <td>234.486</td>\n",
       "      <td>203.519</td>\n",
       "      <td>1660.25</td>\n",
       "      <td>157.184</td>\n",
       "      <td>250.954</td>\n",
       "      <td>276.849</td>\n",
       "      <td>146.67</td>\n",
       "      <td>332.711</td>\n",
       "      <td>100.294</td>\n",
       "      <td>0</td>\n",
       "    </tr>\n",
       "    <tr>\n",
       "      <td>3</td>\n",
       "      <td>77.4941</td>\n",
       "      <td>166.328</td>\n",
       "      <td>92.7528</td>\n",
       "      <td>23.981</td>\n",
       "      <td>8.8465</td>\n",
       "      <td>11.1614</td>\n",
       "      <td>112.987</td>\n",
       "      <td>111.448</td>\n",
       "      <td>16.8685</td>\n",
       "      <td>9.26806</td>\n",
       "      <td>...</td>\n",
       "      <td>142.891</td>\n",
       "      <td>647.077</td>\n",
       "      <td>553.666</td>\n",
       "      <td>188.07</td>\n",
       "      <td>124.122</td>\n",
       "      <td>368.93</td>\n",
       "      <td>279.159</td>\n",
       "      <td>778.891</td>\n",
       "      <td>17.6822</td>\n",
       "      <td>0</td>\n",
       "    </tr>\n",
       "    <tr>\n",
       "      <td>4</td>\n",
       "      <td>31.8432</td>\n",
       "      <td>1.64783</td>\n",
       "      <td>149.396</td>\n",
       "      <td>221.861</td>\n",
       "      <td>17.4676</td>\n",
       "      <td>53.9823</td>\n",
       "      <td>47.3113</td>\n",
       "      <td>211.829</td>\n",
       "      <td>9.91072</td>\n",
       "      <td>5.41136</td>\n",
       "      <td>...</td>\n",
       "      <td>375.477</td>\n",
       "      <td>118.862</td>\n",
       "      <td>182.785</td>\n",
       "      <td>311.361</td>\n",
       "      <td>144.336</td>\n",
       "      <td>172.522</td>\n",
       "      <td>155.211</td>\n",
       "      <td>192.128</td>\n",
       "      <td>51.8341</td>\n",
       "      <td>0</td>\n",
       "    </tr>\n",
       "  </tbody>\n",
       "</table>\n",
       "<p>5 rows × 83 columns</p>\n",
       "</div>"
      ],
      "text/plain": [
       "    (1, 1)   (1, 2)   (1, 3)   (1, 4)   (1, 5)   (1, 6)   (1, 7)   (1, 8)  \\\n",
       "0  15.4148  5.74462  9.84048   133.17  231.889  14.1383  54.1864  294.255   \n",
       "1   39.561  13.6749  6.09118  29.7348  367.953  1.36042  8.72272  60.3593   \n",
       "2  34.7409  6.07106  7.77497  158.906  164.252  2.72117  32.6313  49.8616   \n",
       "3  77.4941  166.328  92.7528   23.981   8.8465  11.1614  112.987  111.448   \n",
       "4  31.8432  1.64783  149.396  221.861  17.4676  53.9823  47.3113  211.829   \n",
       "\n",
       "    (1, 9)  (1, 10)  ...  (3, 14)  (3, 15)  (3, 16)  (3, 17)  (3, 18)  \\\n",
       "0  30.4932  3.63267  ...  152.932  94.3192    75.45   1447.1  1165.97   \n",
       "1  26.2082  2.83987  ...        0  53.7927  302.534  597.365  227.328   \n",
       "2  25.4066  20.7674  ...  234.486  203.519  1660.25  157.184  250.954   \n",
       "3  16.8685  9.26806  ...  142.891  647.077  553.666   188.07  124.122   \n",
       "4  9.91072  5.41136  ...  375.477  118.862  182.785  311.361  144.336   \n",
       "\n",
       "   (3, 19)  (3, 20)  (3, 21)  (3, 22)  (3, 23)  \n",
       "0  300.085  700.473  51.8646  147.664  297.986  \n",
       "1  2080.33  200.396  108.703  197.378        0  \n",
       "2  276.849   146.67  332.711  100.294        0  \n",
       "3   368.93  279.159  778.891  17.6822        0  \n",
       "4  172.522  155.211  192.128  51.8341        0  \n",
       "\n",
       "[5 rows x 83 columns]"
      ]
     },
     "execution_count": 12,
     "metadata": {},
     "output_type": "execute_result"
    }
   ],
   "source": [
    "print('Data Shape: {}'.format(volume_cryptos.shape))\n",
    "volume_cryptos.head()"
   ]
  },
  {
   "cell_type": "code",
   "execution_count": 14,
   "metadata": {},
   "outputs": [
    {
     "name": "stderr",
     "output_type": "stream",
     "text": [
      "/home/ryan/.local/lib/python3.6/site-packages/pandas/core/series.py:1152: FutureWarning: \n",
      "Passing list-likes to .loc or [] with any missing label will raise\n",
      "KeyError in the future, you can use .reindex() as an alternative.\n",
      "\n",
      "See the documentation here:\n",
      "https://pandas.pydata.org/pandas-docs/stable/user_guide/indexing.html#deprecate-loc-reindex-listlike\n",
      "  return self.loc[key]\n"
     ]
    }
   ],
   "source": [
    "# Compute volume data for the volume_cryptos table\n",
    "volume_days = pd.DataFrame(columns=crypto_data.keys(), index=range(1440))\n",
    "minutes = range(24*60)\n",
    "trading_minutes = {minute: [day + (minute,) for day in trading_days] for minute in minutes}\n",
    "for pair in crypto_data.keys():\n",
    "    for minute in minutes:\n",
    "        volume_days[pair][minute] = crypto_data[pair]['volume'][trading_minutes[minute]].mean()"
   ]
  },
  {
   "cell_type": "code",
   "execution_count": 15,
   "metadata": {},
   "outputs": [
    {
     "name": "stdout",
     "output_type": "stream",
     "text": [
      "Data Shape: (1440, 4)\n"
     ]
    },
    {
     "data": {
      "text/html": [
       "<div>\n",
       "<style scoped>\n",
       "    .dataframe tbody tr th:only-of-type {\n",
       "        vertical-align: middle;\n",
       "    }\n",
       "\n",
       "    .dataframe tbody tr th {\n",
       "        vertical-align: top;\n",
       "    }\n",
       "\n",
       "    .dataframe thead th {\n",
       "        text-align: right;\n",
       "    }\n",
       "</style>\n",
       "<table border=\"1\" class=\"dataframe\">\n",
       "  <thead>\n",
       "    <tr style=\"text-align: right;\">\n",
       "      <th></th>\n",
       "      <th>BCH-USD</th>\n",
       "      <th>BTC-USD</th>\n",
       "      <th>ETH-USD</th>\n",
       "      <th>LTC-USD</th>\n",
       "    </tr>\n",
       "  </thead>\n",
       "  <tbody>\n",
       "    <tr>\n",
       "      <td>0</td>\n",
       "      <td>93.0835</td>\n",
       "      <td>34.1376</td>\n",
       "      <td>340.592</td>\n",
       "      <td>505.784</td>\n",
       "    </tr>\n",
       "    <tr>\n",
       "      <td>1</td>\n",
       "      <td>80.4298</td>\n",
       "      <td>34.4632</td>\n",
       "      <td>274.985</td>\n",
       "      <td>400.732</td>\n",
       "    </tr>\n",
       "    <tr>\n",
       "      <td>2</td>\n",
       "      <td>69.4601</td>\n",
       "      <td>27.0749</td>\n",
       "      <td>302.014</td>\n",
       "      <td>342.103</td>\n",
       "    </tr>\n",
       "    <tr>\n",
       "      <td>3</td>\n",
       "      <td>52.5369</td>\n",
       "      <td>26.3054</td>\n",
       "      <td>259.084</td>\n",
       "      <td>234.649</td>\n",
       "    </tr>\n",
       "    <tr>\n",
       "      <td>4</td>\n",
       "      <td>52.0044</td>\n",
       "      <td>18.6781</td>\n",
       "      <td>198.096</td>\n",
       "      <td>211.271</td>\n",
       "    </tr>\n",
       "  </tbody>\n",
       "</table>\n",
       "</div>"
      ],
      "text/plain": [
       "   BCH-USD  BTC-USD  ETH-USD  LTC-USD\n",
       "0  93.0835  34.1376  340.592  505.784\n",
       "1  80.4298  34.4632  274.985  400.732\n",
       "2  69.4601  27.0749  302.014  342.103\n",
       "3  52.5369  26.3054  259.084  234.649\n",
       "4  52.0044  18.6781  198.096  211.271"
      ]
     },
     "execution_count": 15,
     "metadata": {},
     "output_type": "execute_result"
    }
   ],
   "source": [
    "print('Data Shape: {}'.format(volume_days.shape))\n",
    "volume_days.head()"
   ]
  },
  {
   "cell_type": "code",
   "execution_count": 16,
   "metadata": {},
   "outputs": [],
   "source": [
    "# Write volume data tables to pickle files\n",
    "volume_cryptos.to_pickle('./volume_cryptos.pkl')\n",
    "volume_days.to_pickle('./volume_days.pkl')"
   ]
  }
 ],
 "metadata": {
  "kernelspec": {
   "display_name": "Python 3",
   "language": "python",
   "name": "python3"
  },
  "language_info": {
   "codemirror_mode": {
    "name": "ipython",
    "version": 3
   },
   "file_extension": ".py",
   "mimetype": "text/x-python",
   "name": "python",
   "nbconvert_exporter": "python",
   "pygments_lexer": "ipython3",
   "version": "3.6.9"
  }
 },
 "nbformat": 4,
 "nbformat_minor": 2
}
