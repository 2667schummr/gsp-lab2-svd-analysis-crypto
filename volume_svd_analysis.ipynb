{
 "cells": [
  {
   "cell_type": "code",
   "execution_count": 221,
   "metadata": {},
   "outputs": [],
   "source": [
    "import numpy as np\n",
    "from matplotlib import pyplot as plt\n",
    "from matplotlib import cm \n",
    "import matplotlib.pyplot as plt \n",
    "from matplotlib.colors import LinearSegmentedColormap\n",
    "import scipy\n",
    "import pandas as pd\n",
    "from scipy import stats\n",
    "import MySQLdb as mdb\n",
    "from statsmodels.tsa.arima_model import ARIMA\n",
    "from datetime import datetime\n",
    "from pytz import timezone\n",
    "import statsmodels.api as sm\n",
    "from sklearn.linear_model import LogisticRegression\n",
    "from sklearn.metrics import accuracy_score"
   ]
  },
  {
   "cell_type": "code",
   "execution_count": 2,
   "metadata": {},
   "outputs": [
    {
     "data": {
      "text/html": [
       "<div>\n",
       "<style scoped>\n",
       "    .dataframe tbody tr th:only-of-type {\n",
       "        vertical-align: middle;\n",
       "    }\n",
       "\n",
       "    .dataframe tbody tr th {\n",
       "        vertical-align: top;\n",
       "    }\n",
       "\n",
       "    .dataframe thead th {\n",
       "        text-align: right;\n",
       "    }\n",
       "</style>\n",
       "<table border=\"1\" class=\"dataframe\">\n",
       "  <thead>\n",
       "    <tr style=\"text-align: right;\">\n",
       "      <th></th>\n",
       "      <th>(11, 1)</th>\n",
       "      <th>(11, 2)</th>\n",
       "      <th>(11, 3)</th>\n",
       "      <th>(11, 4)</th>\n",
       "      <th>(11, 5)</th>\n",
       "      <th>(11, 6)</th>\n",
       "      <th>(11, 7)</th>\n",
       "      <th>(11, 8)</th>\n",
       "      <th>(11, 9)</th>\n",
       "      <th>(11, 10)</th>\n",
       "      <th>...</th>\n",
       "      <th>(3, 14)</th>\n",
       "      <th>(3, 15)</th>\n",
       "      <th>(3, 16)</th>\n",
       "      <th>(3, 17)</th>\n",
       "      <th>(3, 18)</th>\n",
       "      <th>(3, 19)</th>\n",
       "      <th>(3, 20)</th>\n",
       "      <th>(3, 21)</th>\n",
       "      <th>(3, 22)</th>\n",
       "      <th>(3, 23)</th>\n",
       "    </tr>\n",
       "  </thead>\n",
       "  <tbody>\n",
       "    <tr>\n",
       "      <td>0</td>\n",
       "      <td>0.000000</td>\n",
       "      <td>9.524479</td>\n",
       "      <td>27.707678</td>\n",
       "      <td>28.283129</td>\n",
       "      <td>54.985081</td>\n",
       "      <td>78.798522</td>\n",
       "      <td>24.081889</td>\n",
       "      <td>33.292067</td>\n",
       "      <td>63.043501</td>\n",
       "      <td>6.372818</td>\n",
       "      <td>...</td>\n",
       "      <td>152.931687</td>\n",
       "      <td>94.319238</td>\n",
       "      <td>75.450048</td>\n",
       "      <td>1447.099356</td>\n",
       "      <td>1165.970117</td>\n",
       "      <td>300.085494</td>\n",
       "      <td>700.473107</td>\n",
       "      <td>51.864564</td>\n",
       "      <td>147.663626</td>\n",
       "      <td>297.985858</td>\n",
       "    </tr>\n",
       "    <tr>\n",
       "      <td>1</td>\n",
       "      <td>43.627570</td>\n",
       "      <td>213.664920</td>\n",
       "      <td>61.867108</td>\n",
       "      <td>21.008396</td>\n",
       "      <td>21.479269</td>\n",
       "      <td>18.575431</td>\n",
       "      <td>77.730586</td>\n",
       "      <td>12.509399</td>\n",
       "      <td>72.715469</td>\n",
       "      <td>6.573682</td>\n",
       "      <td>...</td>\n",
       "      <td>0.000000</td>\n",
       "      <td>53.792684</td>\n",
       "      <td>302.533879</td>\n",
       "      <td>597.365108</td>\n",
       "      <td>227.328293</td>\n",
       "      <td>2080.325992</td>\n",
       "      <td>200.396057</td>\n",
       "      <td>108.703085</td>\n",
       "      <td>197.378476</td>\n",
       "      <td>6.788182</td>\n",
       "    </tr>\n",
       "    <tr>\n",
       "      <td>2</td>\n",
       "      <td>11.672195</td>\n",
       "      <td>40.459803</td>\n",
       "      <td>33.227140</td>\n",
       "      <td>8.033916</td>\n",
       "      <td>10.453011</td>\n",
       "      <td>11.514917</td>\n",
       "      <td>203.406252</td>\n",
       "      <td>4.094531</td>\n",
       "      <td>2.226942</td>\n",
       "      <td>4.114936</td>\n",
       "      <td>...</td>\n",
       "      <td>234.485838</td>\n",
       "      <td>203.519174</td>\n",
       "      <td>1660.249400</td>\n",
       "      <td>157.183563</td>\n",
       "      <td>250.954446</td>\n",
       "      <td>276.848736</td>\n",
       "      <td>146.669942</td>\n",
       "      <td>332.711436</td>\n",
       "      <td>100.293547</td>\n",
       "      <td>3743.527994</td>\n",
       "    </tr>\n",
       "    <tr>\n",
       "      <td>3</td>\n",
       "      <td>31.100061</td>\n",
       "      <td>5.303673</td>\n",
       "      <td>21.107253</td>\n",
       "      <td>1.757448</td>\n",
       "      <td>168.711860</td>\n",
       "      <td>21.692121</td>\n",
       "      <td>13.902405</td>\n",
       "      <td>54.284584</td>\n",
       "      <td>1.269751</td>\n",
       "      <td>45.762592</td>\n",
       "      <td>...</td>\n",
       "      <td>142.891126</td>\n",
       "      <td>647.076503</td>\n",
       "      <td>553.665784</td>\n",
       "      <td>188.070088</td>\n",
       "      <td>124.122340</td>\n",
       "      <td>368.929888</td>\n",
       "      <td>279.159227</td>\n",
       "      <td>778.891331</td>\n",
       "      <td>17.682221</td>\n",
       "      <td>3288.480868</td>\n",
       "    </tr>\n",
       "    <tr>\n",
       "      <td>4</td>\n",
       "      <td>7.156883</td>\n",
       "      <td>3.057171</td>\n",
       "      <td>79.534388</td>\n",
       "      <td>7.339546</td>\n",
       "      <td>24.517245</td>\n",
       "      <td>5.231176</td>\n",
       "      <td>13.127471</td>\n",
       "      <td>12.972374</td>\n",
       "      <td>88.437485</td>\n",
       "      <td>11.079248</td>\n",
       "      <td>...</td>\n",
       "      <td>375.477158</td>\n",
       "      <td>118.862287</td>\n",
       "      <td>182.785104</td>\n",
       "      <td>311.361137</td>\n",
       "      <td>144.336178</td>\n",
       "      <td>172.521523</td>\n",
       "      <td>155.210807</td>\n",
       "      <td>192.128294</td>\n",
       "      <td>51.834116</td>\n",
       "      <td>1558.425188</td>\n",
       "    </tr>\n",
       "  </tbody>\n",
       "</table>\n",
       "<p>5 rows × 144 columns</p>\n",
       "</div>"
      ],
      "text/plain": [
       "     (11, 1)     (11, 2)    (11, 3)    (11, 4)     (11, 5)    (11, 6)  \\\n",
       "0   0.000000    9.524479  27.707678  28.283129   54.985081  78.798522   \n",
       "1  43.627570  213.664920  61.867108  21.008396   21.479269  18.575431   \n",
       "2  11.672195   40.459803  33.227140   8.033916   10.453011  11.514917   \n",
       "3  31.100061    5.303673  21.107253   1.757448  168.711860  21.692121   \n",
       "4   7.156883    3.057171  79.534388   7.339546   24.517245   5.231176   \n",
       "\n",
       "      (11, 7)    (11, 8)    (11, 9)   (11, 10)  ...     (3, 14)     (3, 15)  \\\n",
       "0   24.081889  33.292067  63.043501   6.372818  ...  152.931687   94.319238   \n",
       "1   77.730586  12.509399  72.715469   6.573682  ...    0.000000   53.792684   \n",
       "2  203.406252   4.094531   2.226942   4.114936  ...  234.485838  203.519174   \n",
       "3   13.902405  54.284584   1.269751  45.762592  ...  142.891126  647.076503   \n",
       "4   13.127471  12.972374  88.437485  11.079248  ...  375.477158  118.862287   \n",
       "\n",
       "       (3, 16)      (3, 17)      (3, 18)      (3, 19)     (3, 20)     (3, 21)  \\\n",
       "0    75.450048  1447.099356  1165.970117   300.085494  700.473107   51.864564   \n",
       "1   302.533879   597.365108   227.328293  2080.325992  200.396057  108.703085   \n",
       "2  1660.249400   157.183563   250.954446   276.848736  146.669942  332.711436   \n",
       "3   553.665784   188.070088   124.122340   368.929888  279.159227  778.891331   \n",
       "4   182.785104   311.361137   144.336178   172.521523  155.210807  192.128294   \n",
       "\n",
       "      (3, 22)      (3, 23)  \n",
       "0  147.663626   297.985858  \n",
       "1  197.378476     6.788182  \n",
       "2  100.293547  3743.527994  \n",
       "3   17.682221  3288.480868  \n",
       "4   51.834116  1558.425188  \n",
       "\n",
       "[5 rows x 144 columns]"
      ]
     },
     "execution_count": 2,
     "metadata": {},
     "output_type": "execute_result"
    }
   ],
   "source": [
    "volume_cryptos = pd.read_pickle('./volume_cryptos.pkl').astype('float')\n",
    "volume_cryptos.head()"
   ]
  },
  {
   "cell_type": "code",
   "execution_count": 3,
   "metadata": {},
   "outputs": [
    {
     "data": {
      "text/plain": [
       "(1440, 144)"
      ]
     },
     "execution_count": 3,
     "metadata": {},
     "output_type": "execute_result"
    }
   ],
   "source": [
    "volume_cryptos.shape"
   ]
  },
  {
   "cell_type": "code",
   "execution_count": 4,
   "metadata": {},
   "outputs": [
    {
     "data": {
      "text/html": [
       "<div>\n",
       "<style scoped>\n",
       "    .dataframe tbody tr th:only-of-type {\n",
       "        vertical-align: middle;\n",
       "    }\n",
       "\n",
       "    .dataframe tbody tr th {\n",
       "        vertical-align: top;\n",
       "    }\n",
       "\n",
       "    .dataframe thead th {\n",
       "        text-align: right;\n",
       "    }\n",
       "</style>\n",
       "<table border=\"1\" class=\"dataframe\">\n",
       "  <thead>\n",
       "    <tr style=\"text-align: right;\">\n",
       "      <th></th>\n",
       "      <th>BCH-USD</th>\n",
       "      <th>BTC-USD</th>\n",
       "      <th>ETH-USD</th>\n",
       "      <th>LTC-USD</th>\n",
       "    </tr>\n",
       "  </thead>\n",
       "  <tbody>\n",
       "    <tr>\n",
       "      <td>0</td>\n",
       "      <td>63.852539</td>\n",
       "      <td>29.743265</td>\n",
       "      <td>240.679377</td>\n",
       "      <td>360.407982</td>\n",
       "    </tr>\n",
       "    <tr>\n",
       "      <td>1</td>\n",
       "      <td>53.226702</td>\n",
       "      <td>24.146439</td>\n",
       "      <td>187.439917</td>\n",
       "      <td>271.830177</td>\n",
       "    </tr>\n",
       "    <tr>\n",
       "      <td>2</td>\n",
       "      <td>53.337397</td>\n",
       "      <td>23.349945</td>\n",
       "      <td>225.264167</td>\n",
       "      <td>292.390135</td>\n",
       "    </tr>\n",
       "    <tr>\n",
       "      <td>3</td>\n",
       "      <td>45.059222</td>\n",
       "      <td>21.837731</td>\n",
       "      <td>193.611079</td>\n",
       "      <td>230.346888</td>\n",
       "    </tr>\n",
       "    <tr>\n",
       "      <td>4</td>\n",
       "      <td>39.475164</td>\n",
       "      <td>15.029650</td>\n",
       "      <td>149.242863</td>\n",
       "      <td>163.770062</td>\n",
       "    </tr>\n",
       "  </tbody>\n",
       "</table>\n",
       "</div>"
      ],
      "text/plain": [
       "     BCH-USD    BTC-USD     ETH-USD     LTC-USD\n",
       "0  63.852539  29.743265  240.679377  360.407982\n",
       "1  53.226702  24.146439  187.439917  271.830177\n",
       "2  53.337397  23.349945  225.264167  292.390135\n",
       "3  45.059222  21.837731  193.611079  230.346888\n",
       "4  39.475164  15.029650  149.242863  163.770062"
      ]
     },
     "execution_count": 4,
     "metadata": {},
     "output_type": "execute_result"
    }
   ],
   "source": [
    "volume_days = pd.read_pickle('./volume_days.pkl').astype('float')\n",
    "volume_days.head()"
   ]
  },
  {
   "cell_type": "code",
   "execution_count": 5,
   "metadata": {},
   "outputs": [
    {
     "data": {
      "text/plain": [
       "(1440, 4)"
      ]
     },
     "execution_count": 5,
     "metadata": {},
     "output_type": "execute_result"
    }
   ],
   "source": [
    "volume_days.shape"
   ]
  },
  {
   "cell_type": "code",
   "execution_count": 21,
   "metadata": {},
   "outputs": [],
   "source": [
    "u, sigma, v_t = np.linalg.svd(volume_days, full_matrices=False, compute_uv=True)"
   ]
  },
  {
   "cell_type": "code",
   "execution_count": 22,
   "metadata": {},
   "outputs": [
    {
     "data": {
      "image/png": "[encoded data removed]",
      "text/plain": [
       "<Figure size 432x288 with 1 Axes>"
      ]
     },
     "metadata": {
      "needs_background": "light"
     },
     "output_type": "display_data"
    }
   ],
   "source": [
    "plt.scatter(range(len(sigma)), sigma);"
   ]
  },
  {
   "cell_type": "code",
   "execution_count": 23,
   "metadata": {},
   "outputs": [
    {
     "data": {
      "image/png": "[encoded data removed]",
      "text/plain": [
       "<Figure size 432x288 with 1 Axes>"
      ]
     },
     "metadata": {
      "needs_background": "light"
     },
     "output_type": "display_data"
    }
   ],
   "source": [
    "w = u[:, 0]\n",
    "plt.plot(range(len(w)), w);"
   ]
  },
  {
   "cell_type": "code",
   "execution_count": 25,
   "metadata": {},
   "outputs": [
    {
     "data": {
      "image/png": "[encoded data removed]",
      "text/plain": [
       "<Figure size 432x288 with 1 Axes>"
      ]
     },
     "metadata": {
      "needs_background": "light"
     },
     "output_type": "display_data"
    }
   ],
   "source": [
    "w = v_t[:, 0]\n",
    "plt.plot(range(len(w)), w);"
   ]
  },
  {
   "cell_type": "code",
   "execution_count": 26,
   "metadata": {},
   "outputs": [],
   "source": [
    "u, sigma, v_t = np.linalg.svd(volume_cryptos, full_matrices=False, compute_uv=True)"
   ]
  },
  {
   "cell_type": "code",
   "execution_count": 27,
   "metadata": {},
   "outputs": [
    {
     "data": {
      "image/png": "[encoded data removed]",
      "text/plain": [
       "<Figure size 432x288 with 1 Axes>"
      ]
     },
     "metadata": {
      "needs_background": "light"
     },
     "output_type": "display_data"
    }
   ],
   "source": [
    "plt.scatter(range(len(sigma)), sigma);"
   ]
  },
  {
   "cell_type": "code",
   "execution_count": 28,
   "metadata": {},
   "outputs": [
    {
     "data": {
      "image/png": "[encoded data removed]",
      "text/plain": [
       "<Figure size 432x288 with 1 Axes>"
      ]
     },
     "metadata": {
      "needs_background": "light"
     },
     "output_type": "display_data"
    }
   ],
   "source": [
    "w = u[:, 0]\n",
    "plt.plot(range(len(w)), w);"
   ]
  },
  {
   "cell_type": "code",
   "execution_count": 29,
   "metadata": {},
   "outputs": [
    {
     "data": {
      "image/png": "[encoded data removed]",
      "text/plain": [
       "<Figure size 432x288 with 1 Axes>"
      ]
     },
     "metadata": {
      "needs_background": "light"
     },
     "output_type": "display_data"
    }
   ],
   "source": [
    "w = v_t[0, :]\n",
    "plt.plot(range(len(w)), w);"
   ]
  },
  {
   "cell_type": "code",
   "execution_count": 30,
   "metadata": {},
   "outputs": [],
   "source": [
    "signal = u[:, 0]\n",
    "v_1 = np.concatenate((signal[:200], signal[600:]))\n",
    "v_2 = signal[200:600]"
   ]
  },
  {
   "cell_type": "code",
   "execution_count": 31,
   "metadata": {},
   "outputs": [
    {
     "data": {
      "image/png": "[encoded data removed]",
      "text/plain": [
       "<Figure size 432x288 with 1 Axes>"
      ]
     },
     "metadata": {
      "needs_background": "light"
     },
     "output_type": "display_data"
    }
   ],
   "source": [
    "plt.boxplot((v_1, v_2));"
   ]
  },
  {
   "cell_type": "code",
   "execution_count": 32,
   "metadata": {},
   "outputs": [
    {
     "data": {
      "text/plain": [
       "MannwhitneyuResult(statistic=57264.0, pvalue=3.1959951951666665e-101)"
      ]
     },
     "execution_count": 32,
     "metadata": {},
     "output_type": "execute_result"
    }
   ],
   "source": [
    "stats.mannwhitneyu(v_1, v_2)"
   ]
  },
  {
   "cell_type": "code",
   "execution_count": 34,
   "metadata": {},
   "outputs": [],
   "source": [
    "# Create database connection\n",
    "db_host = 'localhost'\n",
    "db_user = 'crypto_user'\n",
    "db_pass = 'Blue0811'\n",
    "db_name = 'cryptocurrencies_master'\n",
    "db_connection = mdb.connect(host=db_host, user=db_user,\n",
    "                            passwd=db_pass, db=db_name)"
   ]
  },
  {
   "cell_type": "code",
   "execution_count": 35,
   "metadata": {},
   "outputs": [
    {
     "name": "stdout",
     "output_type": "stream",
     "text": [
      "query:\n",
      "SELECT price_date, volume \n",
      "FROM price_1min \n",
      "WHERE id = \"BTC-USD\" AND price_date < 1585008000\n",
      "ORDER BY price_date;\n",
      "\n"
     ]
    }
   ],
   "source": [
    "end_stamp = 1585008000\n",
    "with db_connection.cursor() as cur:\n",
    "    execution_str = 'SELECT price_date, volume \\nFROM price_1min \\nWHERE id = \"BTC-USD\" AND '\n",
    "    execution_str += 'price_date < {}\\n'.format(end_stamp)\n",
    "    execution_str += 'ORDER BY price_date;'\n",
    "    print('query:\\n{}\\n'.format(execution_str))\n",
    "    cur.execute(execution_str)\n",
    "    data = list(cur.fetchall())\n",
    "btc_train = pd.DataFrame(data, columns=('timestamp', 'volume'))"
   ]
  },
  {
   "cell_type": "code",
   "execution_count": 36,
   "metadata": {},
   "outputs": [
    {
     "name": "stdout",
     "output_type": "stream",
     "text": [
      "query:\n",
      "SELECT price_date, volume \n",
      "FROM price_1min \n",
      "WHERE id = \"BTC-USD\" AND (price_date >= 1585008000 AND price_date < 1585094400)\n",
      "ORDER BY price_date;\n",
      "\n"
     ]
    }
   ],
   "source": [
    "start_stamp = 1585008000\n",
    "end_stamp = 1585094400\n",
    "with db_connection.cursor() as cur:\n",
    "    execution_str = 'SELECT price_date, volume \\nFROM price_1min \\nWHERE id = \"BTC-USD\" AND '\n",
    "    execution_str += '(price_date >= {} AND price_date < {})\\n'.format(start_stamp, end_stamp)\n",
    "    execution_str += 'ORDER BY price_date;'\n",
    "    print('query:\\n{}\\n'.format(execution_str))\n",
    "    cur.execute(execution_str)\n",
    "    data = list(cur.fetchall())\n",
    "btc_test = pd.DataFrame(data, columns=('timestamp', 'volume'))"
   ]
  },
  {
   "cell_type": "code",
   "execution_count": 37,
   "metadata": {},
   "outputs": [],
   "source": [
    "u_c, sigma_c, vt_c = np.linalg.svd(volume_cryptos, full_matrices=False, compute_uv=True)\n",
    "u_d, sigma_d, vt_d = np.linalg.svd(volume_days, full_matrices=False, compute_uv=True)"
   ]
  },
  {
   "cell_type": "code",
   "execution_count": 38,
   "metadata": {},
   "outputs": [],
   "source": [
    "sigma_d_low = sigma_d\n",
    "sigma_d_low[1:] = 0\n",
    "A_date = np.matmul(u_d, np.diag(sigma_d_low))\n",
    "A_date = np.matmul(A_date, vt_d)"
   ]
  },
  {
   "cell_type": "code",
   "execution_count": 52,
   "metadata": {},
   "outputs": [
    {
     "data": {
      "image/png": "[encoded data removed]",
      "text/plain": [
       "<Figure size 432x288 with 1 Axes>"
      ]
     },
     "metadata": {
      "needs_background": "light"
     },
     "output_type": "display_data"
    }
   ],
   "source": [
    "w = vt_c[0, :]\n",
    "plt.plot(range(len(w)), w);\n",
    "\n",
    "model = ARIMA(w, order=(5, 2, 0));\n",
    "model.fit(disp=0);"
   ]
  },
  {
   "cell_type": "code",
   "execution_count": 53,
   "metadata": {},
   "outputs": [
    {
     "data": {
      "image/png": "[encoded data removed]",
      "text/plain": [
       "<Figure size 432x288 with 1 Axes>"
      ]
     },
     "metadata": {
      "needs_background": "light"
     },
     "output_type": "display_data"
    }
   ],
   "source": [
    "w_pred = model.predict(w)\n",
    "plt.plot(range(len(w_pred)), w_pred);"
   ]
  },
  {
   "cell_type": "code",
   "execution_count": 57,
   "metadata": {},
   "outputs": [],
   "source": [
    "model = ARIMA(w, order=(5,2,0));\n",
    "model_fit = model.fit(disp=0);"
   ]
  },
  {
   "cell_type": "code",
   "execution_count": 69,
   "metadata": {},
   "outputs": [
    {
     "name": "stderr",
     "output_type": "stream",
     "text": [
      "/usr/local/lib/python3.6/dist-packages/statsmodels/base/model.py:512: ConvergenceWarning: Maximum Likelihood optimization failed to converge. Check mle_retvals\n",
      "  \"Check mle_retvals\", ConvergenceWarning)\n",
      "/usr/local/lib/python3.6/dist-packages/statsmodels/base/model.py:512: ConvergenceWarning: Maximum Likelihood optimization failed to converge. Check mle_retvals\n",
      "  \"Check mle_retvals\", ConvergenceWarning)\n"
     ]
    }
   ],
   "source": [
    "predictions = []\n",
    "N = vt_c.shape[0]\n",
    "for i in range(N):\n",
    "    model = ARIMA(vt_c[i, :], order=(5, 2, 0))\n",
    "    model_fit = model.fit(disp=0)\n",
    "    pred = model_fit.forecast()[0][0]\n",
    "    predictions.append(pred)\n",
    "predictions = np.array(predictions).reshape(-1, 1)"
   ]
  },
  {
   "cell_type": "code",
   "execution_count": 87,
   "metadata": {},
   "outputs": [],
   "source": [
    "vt_c_pred = np.concatenate((vt_c, predictions), axis=1)\n",
    "\n",
    "sigma_c_low = sigma_c\n",
    "sigma_c_low[3:] = 0\n",
    "\n",
    "A_crypto = np.matmul(u_c, np.diag(sigma_c_low))\n",
    "A_crypto = np.matmul(A_crypto, vt_c_pred)"
   ]
  },
  {
   "cell_type": "code",
   "execution_count": 98,
   "metadata": {},
   "outputs": [],
   "source": [
    "def stamp_to_trading_day(timestamp):\n",
    "    date = datetime.fromtimestamp(timestamp).astimezone(timezone('UTC'))\n",
    "    minute = date.hour*60 + date.minute\n",
    "    return (date.month, date.day, minute)"
   ]
  },
  {
   "cell_type": "code",
   "execution_count": 138,
   "metadata": {},
   "outputs": [],
   "source": [
    "def compute_day_index(month, day):\n",
    "    month_correction = {11: 0, 12: 30, 1: 61, 2: 92, 3: 121}\n",
    "    index = day - 1 + month_correction[month]\n",
    "    return index"
   ]
  },
  {
   "cell_type": "code",
   "execution_count": 214,
   "metadata": {},
   "outputs": [],
   "source": [
    "N = btc_train.shape[0]\n",
    "X = np.zeros((N, 3))\n",
    "y_reg = np.zeros((N, 1))\n",
    "y_class = np.zeros((N, 1))\n",
    "\n",
    "volume = btc_train['volume']\n",
    "p_25 = np.percentile(volume, 25)\n",
    "p_50 = np.percentile(volume, 50)\n",
    "p_75 = np.percentile(volume, 75)\n",
    "\n",
    "for i in range(N):\n",
    "    timestamp = btc_train['timestamp'][i]\n",
    "    month, day, minute = stamp_to_trading_day(timestamp)\n",
    "    day_index = compute_day_index(month, day)\n",
    "    \n",
    "    v_date = A_date[minute, 1]\n",
    "    v_crypto = A_crypto[minute, day_index]\n",
    "    v_mean = A_crypto[minute, :i + 1].mean()\n",
    "    \n",
    "    X[i, 0] = v_date - v_mean\n",
    "    X[i, 1] = v_crypto - v_mean\n",
    "    X[i, 2] = v_mean\n",
    "    \n",
    "    volume = btc_train['volume'][i]\n",
    "    y_reg[i] = volume\n",
    "    if volume <= p_25:\n",
    "        y_class[i] = 0\n",
    "    elif volume > p_25 and volume <= p_50:\n",
    "        y_class[i] = 1\n",
    "    elif volume > p_50 and volume <= p_75:\n",
    "        y_class[i] = 2\n",
    "    else:\n",
    "        y_class[i] = 3"
   ]
  },
  {
   "cell_type": "code",
   "execution_count": 215,
   "metadata": {},
   "outputs": [],
   "source": [
    "N = X.shape[0]\n",
    "X_reg = sm.add_constant(X)"
   ]
  },
  {
   "cell_type": "code",
   "execution_count": 216,
   "metadata": {},
   "outputs": [
    {
     "name": "stdout",
     "output_type": "stream",
     "text": [
      "                                 OLS Regression Results                                \n",
      "=======================================================================================\n",
      "Dep. Variable:                      y   R-squared (uncentered):                   0.373\n",
      "Model:                            OLS   Adj. R-squared (uncentered):              0.373\n",
      "Method:                 Least Squares   F-statistic:                          4.104e+04\n",
      "Date:                Sat, 28 Mar 2020   Prob (F-statistic):                        0.00\n",
      "Time:                        12:00:32   Log-Likelihood:                     -9.4604e+05\n",
      "No. Observations:              206582   AIC:                                  1.892e+06\n",
      "Df Residuals:                  206579   BIC:                                  1.892e+06\n",
      "Df Model:                           3                                                  \n",
      "Covariance Type:            nonrobust                                                  \n",
      "==============================================================================\n",
      "                 coef    std err          t      P>|t|      [0.025      0.975]\n",
      "------------------------------------------------------------------------------\n",
      "x1             0.8494      0.033     25.851      0.000       0.785       0.914\n",
      "x2             0.1364      0.000    291.401      0.000       0.135       0.137\n",
      "x3             0.8711      0.028     30.681      0.000       0.815       0.927\n",
      "==============================================================================\n",
      "Omnibus:                   344283.392   Durbin-Watson:                   1.020\n",
      "Prob(Omnibus):                  0.000   Jarque-Bera (JB):        530438691.225\n",
      "Skew:                          11.092   Prob(JB):                         0.00\n",
      "Kurtosis:                     250.250   Cond. No.                         92.8\n",
      "==============================================================================\n",
      "\n",
      "Warnings:\n",
      "[1] Standard Errors assume that the covariance matrix of the errors is correctly specified.\n"
     ]
    }
   ],
   "source": [
    "lin_reg = sm.OLS(y_reg, X).fit()\n",
    "print(lin_reg.summary())"
   ]
  },
  {
   "cell_type": "code",
   "execution_count": 218,
   "metadata": {},
   "outputs": [
    {
     "name": "stderr",
     "output_type": "stream",
     "text": [
      "/usr/local/lib/python3.6/dist-packages/sklearn/linear_model/logistic.py:432: FutureWarning: Default solver will be changed to 'lbfgs' in 0.22. Specify a solver to silence this warning.\n",
      "  FutureWarning)\n",
      "/usr/local/lib/python3.6/dist-packages/sklearn/utils/validation.py:724: DataConversionWarning: A column-vector y was passed when a 1d array was expected. Please change the shape of y to (n_samples, ), for example using ravel().\n",
      "  y = column_or_1d(y, warn=True)\n",
      "/usr/local/lib/python3.6/dist-packages/sklearn/linear_model/logistic.py:469: FutureWarning: Default multi_class will be changed to 'auto' in 0.22. Specify the multi_class option to silence this warning.\n",
      "  \"this warning.\", FutureWarning)\n"
     ]
    }
   ],
   "source": [
    "N = int(X.shape[0]*0.8)\n",
    "X_train = X[:N, :]\n",
    "X_test = X[N:, :]\n",
    "y_train = y_class[:N]\n",
    "y_test = y_class[N:]\n",
    "log_reg = LogisticRegression().fit(X_train, y_train)"
   ]
  },
  {
   "cell_type": "code",
   "execution_count": 222,
   "metadata": {},
   "outputs": [
    {
     "data": {
      "text/plain": [
       "0.5142919379432195"
      ]
     },
     "execution_count": 222,
     "metadata": {},
     "output_type": "execute_result"
    }
   ],
   "source": [
    "y_pred = log_reg.predict(X_test)\n",
    "accuracy_score(y_test, y_pred)"
   ]
  },
  {
   "cell_type": "code",
   "execution_count": 220,
   "metadata": {},
   "outputs": [
    {
     "data": {
      "text/plain": [
       "array([2., 2., 2., ..., 3., 3., 3.])"
      ]
     },
     "execution_count": 220,
     "metadata": {},
     "output_type": "execute_result"
    }
   ],
   "source": [
    "y_pred"
   ]
  }
 ],
 "metadata": {
  "kernelspec": {
   "display_name": "Python 3",
   "language": "python",
   "name": "python3"
  },
  "language_info": {
   "codemirror_mode": {
    "name": "ipython",
    "version": 3
   },
   "file_extension": ".py",
   "mimetype": "text/x-python",
   "name": "python",
   "nbconvert_exporter": "python",
   "pygments_lexer": "ipython3",
   "version": "3.6.9"
  }
 },
 "nbformat": 4,
 "nbformat_minor": 2
}
