{
 "cells": [
  {
   "cell_type": "code",
   "execution_count": 1,
   "metadata": {},
   "outputs": [],
   "source": [
    "import numpy as np\n",
    "from matplotlib import pyplot as plt\n",
    "from matplotlib import cm \n",
    "import matplotlib.pyplot as plt \n",
    "from matplotlib.colors import LinearSegmentedColormap\n",
    "import scipy\n",
    "import pandas as pd\n",
    "from scipy import stats"
   ]
  },
  {
   "cell_type": "code",
   "execution_count": 2,
   "metadata": {},
   "outputs": [
    {
     "data": {
      "text/html": [
       "<div>\n",
       "<style scoped>\n",
       "    .dataframe tbody tr th:only-of-type {\n",
       "        vertical-align: middle;\n",
       "    }\n",
       "\n",
       "    .dataframe tbody tr th {\n",
       "        vertical-align: top;\n",
       "    }\n",
       "\n",
       "    .dataframe thead th {\n",
       "        text-align: right;\n",
       "    }\n",
       "</style>\n",
       "<table border=\"1\" class=\"dataframe\">\n",
       "  <thead>\n",
       "    <tr style=\"text-align: right;\">\n",
       "      <th></th>\n",
       "      <th>(1, 1)</th>\n",
       "      <th>(1, 2)</th>\n",
       "      <th>(1, 3)</th>\n",
       "      <th>(1, 4)</th>\n",
       "      <th>(1, 5)</th>\n",
       "      <th>(1, 6)</th>\n",
       "      <th>(1, 7)</th>\n",
       "      <th>(1, 8)</th>\n",
       "      <th>(1, 9)</th>\n",
       "      <th>(1, 10)</th>\n",
       "      <th>...</th>\n",
       "      <th>(3, 14)</th>\n",
       "      <th>(3, 15)</th>\n",
       "      <th>(3, 16)</th>\n",
       "      <th>(3, 17)</th>\n",
       "      <th>(3, 18)</th>\n",
       "      <th>(3, 19)</th>\n",
       "      <th>(3, 20)</th>\n",
       "      <th>(3, 21)</th>\n",
       "      <th>(3, 22)</th>\n",
       "      <th>(3, 23)</th>\n",
       "    </tr>\n",
       "  </thead>\n",
       "  <tbody>\n",
       "    <tr>\n",
       "      <td>0</td>\n",
       "      <td>15.414765</td>\n",
       "      <td>5.744616</td>\n",
       "      <td>9.840480</td>\n",
       "      <td>133.170449</td>\n",
       "      <td>231.888533</td>\n",
       "      <td>14.138344</td>\n",
       "      <td>54.186424</td>\n",
       "      <td>294.255453</td>\n",
       "      <td>30.493175</td>\n",
       "      <td>3.632668</td>\n",
       "      <td>...</td>\n",
       "      <td>152.931687</td>\n",
       "      <td>94.319238</td>\n",
       "      <td>75.450048</td>\n",
       "      <td>1447.099356</td>\n",
       "      <td>1165.970117</td>\n",
       "      <td>300.085494</td>\n",
       "      <td>700.473107</td>\n",
       "      <td>51.864564</td>\n",
       "      <td>147.663626</td>\n",
       "      <td>297.985858</td>\n",
       "    </tr>\n",
       "    <tr>\n",
       "      <td>1</td>\n",
       "      <td>39.561012</td>\n",
       "      <td>13.674923</td>\n",
       "      <td>6.091176</td>\n",
       "      <td>29.734829</td>\n",
       "      <td>367.952974</td>\n",
       "      <td>1.360424</td>\n",
       "      <td>8.722716</td>\n",
       "      <td>60.359270</td>\n",
       "      <td>26.208239</td>\n",
       "      <td>2.839873</td>\n",
       "      <td>...</td>\n",
       "      <td>0.000000</td>\n",
       "      <td>53.792684</td>\n",
       "      <td>302.533879</td>\n",
       "      <td>597.365108</td>\n",
       "      <td>227.328293</td>\n",
       "      <td>2080.325992</td>\n",
       "      <td>200.396057</td>\n",
       "      <td>108.703085</td>\n",
       "      <td>197.378476</td>\n",
       "      <td>0.000000</td>\n",
       "    </tr>\n",
       "    <tr>\n",
       "      <td>2</td>\n",
       "      <td>34.740935</td>\n",
       "      <td>6.071056</td>\n",
       "      <td>7.774974</td>\n",
       "      <td>158.906257</td>\n",
       "      <td>164.251740</td>\n",
       "      <td>2.721169</td>\n",
       "      <td>32.631296</td>\n",
       "      <td>49.861635</td>\n",
       "      <td>25.406638</td>\n",
       "      <td>20.767423</td>\n",
       "      <td>...</td>\n",
       "      <td>234.485838</td>\n",
       "      <td>203.519174</td>\n",
       "      <td>1660.249400</td>\n",
       "      <td>157.183563</td>\n",
       "      <td>250.954446</td>\n",
       "      <td>276.848736</td>\n",
       "      <td>146.669942</td>\n",
       "      <td>332.711436</td>\n",
       "      <td>100.293547</td>\n",
       "      <td>0.000000</td>\n",
       "    </tr>\n",
       "    <tr>\n",
       "      <td>3</td>\n",
       "      <td>77.494127</td>\n",
       "      <td>166.328320</td>\n",
       "      <td>92.752818</td>\n",
       "      <td>23.981036</td>\n",
       "      <td>8.846498</td>\n",
       "      <td>11.161393</td>\n",
       "      <td>112.987496</td>\n",
       "      <td>111.447507</td>\n",
       "      <td>16.868482</td>\n",
       "      <td>9.268062</td>\n",
       "      <td>...</td>\n",
       "      <td>142.891126</td>\n",
       "      <td>647.076503</td>\n",
       "      <td>553.665784</td>\n",
       "      <td>188.070088</td>\n",
       "      <td>124.122340</td>\n",
       "      <td>368.929888</td>\n",
       "      <td>279.159227</td>\n",
       "      <td>778.891331</td>\n",
       "      <td>17.682221</td>\n",
       "      <td>0.000000</td>\n",
       "    </tr>\n",
       "    <tr>\n",
       "      <td>4</td>\n",
       "      <td>31.843179</td>\n",
       "      <td>1.647833</td>\n",
       "      <td>149.395656</td>\n",
       "      <td>221.860603</td>\n",
       "      <td>17.467606</td>\n",
       "      <td>53.982262</td>\n",
       "      <td>47.311293</td>\n",
       "      <td>211.829101</td>\n",
       "      <td>9.910716</td>\n",
       "      <td>5.411363</td>\n",
       "      <td>...</td>\n",
       "      <td>375.477158</td>\n",
       "      <td>118.862287</td>\n",
       "      <td>182.785104</td>\n",
       "      <td>311.361137</td>\n",
       "      <td>144.336178</td>\n",
       "      <td>172.521523</td>\n",
       "      <td>155.210807</td>\n",
       "      <td>192.128294</td>\n",
       "      <td>51.834116</td>\n",
       "      <td>0.000000</td>\n",
       "    </tr>\n",
       "  </tbody>\n",
       "</table>\n",
       "<p>5 rows × 83 columns</p>\n",
       "</div>"
      ],
      "text/plain": [
       "      (1, 1)      (1, 2)      (1, 3)      (1, 4)      (1, 5)     (1, 6)  \\\n",
       "0  15.414765    5.744616    9.840480  133.170449  231.888533  14.138344   \n",
       "1  39.561012   13.674923    6.091176   29.734829  367.952974   1.360424   \n",
       "2  34.740935    6.071056    7.774974  158.906257  164.251740   2.721169   \n",
       "3  77.494127  166.328320   92.752818   23.981036    8.846498  11.161393   \n",
       "4  31.843179    1.647833  149.395656  221.860603   17.467606  53.982262   \n",
       "\n",
       "       (1, 7)      (1, 8)     (1, 9)    (1, 10)  ...     (3, 14)     (3, 15)  \\\n",
       "0   54.186424  294.255453  30.493175   3.632668  ...  152.931687   94.319238   \n",
       "1    8.722716   60.359270  26.208239   2.839873  ...    0.000000   53.792684   \n",
       "2   32.631296   49.861635  25.406638  20.767423  ...  234.485838  203.519174   \n",
       "3  112.987496  111.447507  16.868482   9.268062  ...  142.891126  647.076503   \n",
       "4   47.311293  211.829101   9.910716   5.411363  ...  375.477158  118.862287   \n",
       "\n",
       "       (3, 16)      (3, 17)      (3, 18)      (3, 19)     (3, 20)     (3, 21)  \\\n",
       "0    75.450048  1447.099356  1165.970117   300.085494  700.473107   51.864564   \n",
       "1   302.533879   597.365108   227.328293  2080.325992  200.396057  108.703085   \n",
       "2  1660.249400   157.183563   250.954446   276.848736  146.669942  332.711436   \n",
       "3   553.665784   188.070088   124.122340   368.929888  279.159227  778.891331   \n",
       "4   182.785104   311.361137   144.336178   172.521523  155.210807  192.128294   \n",
       "\n",
       "      (3, 22)     (3, 23)  \n",
       "0  147.663626  297.985858  \n",
       "1  197.378476    0.000000  \n",
       "2  100.293547    0.000000  \n",
       "3   17.682221    0.000000  \n",
       "4   51.834116    0.000000  \n",
       "\n",
       "[5 rows x 83 columns]"
      ]
     },
     "execution_count": 2,
     "metadata": {},
     "output_type": "execute_result"
    }
   ],
   "source": [
    "volume_cryptos = pd.read_pickle('./volume_cryptos.pkl').astype('float')\n",
    "volume_cryptos.head()"
   ]
  },
  {
   "cell_type": "code",
   "execution_count": 3,
   "metadata": {},
   "outputs": [
    {
     "data": {
      "text/plain": [
       "(1440, 83)"
      ]
     },
     "execution_count": 3,
     "metadata": {},
     "output_type": "execute_result"
    }
   ],
   "source": [
    "volume_cryptos.shape"
   ]
  },
  {
   "cell_type": "code",
   "execution_count": 4,
   "metadata": {},
   "outputs": [
    {
     "data": {
      "text/html": [
       "<div>\n",
       "<style scoped>\n",
       "    .dataframe tbody tr th:only-of-type {\n",
       "        vertical-align: middle;\n",
       "    }\n",
       "\n",
       "    .dataframe tbody tr th {\n",
       "        vertical-align: top;\n",
       "    }\n",
       "\n",
       "    .dataframe thead th {\n",
       "        text-align: right;\n",
       "    }\n",
       "</style>\n",
       "<table border=\"1\" class=\"dataframe\">\n",
       "  <thead>\n",
       "    <tr style=\"text-align: right;\">\n",
       "      <th></th>\n",
       "      <th>BCH-USD</th>\n",
       "      <th>BTC-USD</th>\n",
       "      <th>ETH-USD</th>\n",
       "      <th>LTC-USD</th>\n",
       "    </tr>\n",
       "  </thead>\n",
       "  <tbody>\n",
       "    <tr>\n",
       "      <td>0</td>\n",
       "      <td>93.083454</td>\n",
       "      <td>34.137577</td>\n",
       "      <td>340.592027</td>\n",
       "      <td>505.784326</td>\n",
       "    </tr>\n",
       "    <tr>\n",
       "      <td>1</td>\n",
       "      <td>80.429848</td>\n",
       "      <td>34.463230</td>\n",
       "      <td>274.984873</td>\n",
       "      <td>400.732208</td>\n",
       "    </tr>\n",
       "    <tr>\n",
       "      <td>2</td>\n",
       "      <td>69.460118</td>\n",
       "      <td>27.074880</td>\n",
       "      <td>302.014200</td>\n",
       "      <td>342.102581</td>\n",
       "    </tr>\n",
       "    <tr>\n",
       "      <td>3</td>\n",
       "      <td>52.536899</td>\n",
       "      <td>26.305374</td>\n",
       "      <td>259.083784</td>\n",
       "      <td>234.649025</td>\n",
       "    </tr>\n",
       "    <tr>\n",
       "      <td>4</td>\n",
       "      <td>52.004395</td>\n",
       "      <td>18.678061</td>\n",
       "      <td>198.096192</td>\n",
       "      <td>211.271475</td>\n",
       "    </tr>\n",
       "  </tbody>\n",
       "</table>\n",
       "</div>"
      ],
      "text/plain": [
       "     BCH-USD    BTC-USD     ETH-USD     LTC-USD\n",
       "0  93.083454  34.137577  340.592027  505.784326\n",
       "1  80.429848  34.463230  274.984873  400.732208\n",
       "2  69.460118  27.074880  302.014200  342.102581\n",
       "3  52.536899  26.305374  259.083784  234.649025\n",
       "4  52.004395  18.678061  198.096192  211.271475"
      ]
     },
     "execution_count": 4,
     "metadata": {},
     "output_type": "execute_result"
    }
   ],
   "source": [
    "volume_days = pd.read_pickle('./volume_days.pkl').astype('float')\n",
    "volume_days.head()"
   ]
  },
  {
   "cell_type": "code",
   "execution_count": 5,
   "metadata": {},
   "outputs": [
    {
     "data": {
      "text/plain": [
       "(1440, 4)"
      ]
     },
     "execution_count": 5,
     "metadata": {},
     "output_type": "execute_result"
    }
   ],
   "source": [
    "volume_days.shape"
   ]
  },
  {
   "cell_type": "code",
   "execution_count": 16,
   "metadata": {},
   "outputs": [],
   "source": [
    "u, sigma, v_t = np.linalg.svd(volume_cryptos, full_matrices=False, compute_uv=True)"
   ]
  },
  {
   "cell_type": "code",
   "execution_count": 7,
   "metadata": {},
   "outputs": [
    {
     "data": {
      "image/png": "[encoded data removed]",
      "text/plain": [
       "<Figure size 432x288 with 1 Axes>"
      ]
     },
     "metadata": {
      "needs_background": "light"
     },
     "output_type": "display_data"
    }
   ],
   "source": [
    "plt.scatter(range(len(sigma)), sigma);"
   ]
  },
  {
   "cell_type": "code",
   "execution_count": 8,
   "metadata": {},
   "outputs": [
    {
     "data": {
      "image/png": "[encoded data removed]",
      "text/plain": [
       "<Figure size 432x288 with 1 Axes>"
      ]
     },
     "metadata": {
      "needs_background": "light"
     },
     "output_type": "display_data"
    }
   ],
   "source": [
    "w = u[:, 0]\n",
    "plt.plot(range(len(w)), w);"
   ]
  },
  {
   "cell_type": "code",
   "execution_count": 9,
   "metadata": {},
   "outputs": [
    {
     "data": {
      "image/png": "[encoded data removed]",
      "text/plain": [
       "<Figure size 432x288 with 1 Axes>"
      ]
     },
     "metadata": {
      "needs_background": "light"
     },
     "output_type": "display_data"
    }
   ],
   "source": [
    "w = v_t[:, 0]\n",
    "plt.plot(range(len(w)), w);"
   ]
  },
  {
   "cell_type": "code",
   "execution_count": 32,
   "metadata": {},
   "outputs": [],
   "source": [
    "u, sigma, v_t = np.linalg.svd(volume_cryptos, full_matrices=False, compute_uv=True)"
   ]
  },
  {
   "cell_type": "code",
   "execution_count": 33,
   "metadata": {},
   "outputs": [
    {
     "data": {
      "image/png": "[encoded data removed]",
      "text/plain": [
       "<Figure size 432x288 with 1 Axes>"
      ]
     },
     "metadata": {
      "needs_background": "light"
     },
     "output_type": "display_data"
    }
   ],
   "source": [
    "plt.scatter(range(len(sigma)), sigma);"
   ]
  },
  {
   "cell_type": "code",
   "execution_count": 34,
   "metadata": {},
   "outputs": [
    {
     "data": {
      "image/png": "[encoded data removed]",
      "text/plain": [
       "<Figure size 432x288 with 1 Axes>"
      ]
     },
     "metadata": {
      "needs_background": "light"
     },
     "output_type": "display_data"
    }
   ],
   "source": [
    "w = u[:, 0]\n",
    "plt.plot(range(len(w)), -w);"
   ]
  },
  {
   "cell_type": "code",
   "execution_count": 35,
   "metadata": {},
   "outputs": [
    {
     "data": {
      "image/png": "[encoded data removed]",
      "text/plain": [
       "<Figure size 432x288 with 1 Axes>"
      ]
     },
     "metadata": {
      "needs_background": "light"
     },
     "output_type": "display_data"
    }
   ],
   "source": [
    "w = v_t[:, 0]\n",
    "plt.plot(range(len(w)), w);"
   ]
  },
  {
   "cell_type": "code",
   "execution_count": 36,
   "metadata": {},
   "outputs": [],
   "source": [
    "signal = -u[:, 0]\n",
    "v_1 = np.concatenate((signal[:200], signal[600:]))\n",
    "v_2 = signal[200:600]"
   ]
  },
  {
   "cell_type": "code",
   "execution_count": 37,
   "metadata": {},
   "outputs": [
    {
     "data": {
      "image/png": "[encoded data removed]",
      "text/plain": [
       "<Figure size 432x288 with 1 Axes>"
      ]
     },
     "metadata": {
      "needs_background": "light"
     },
     "output_type": "display_data"
    }
   ],
   "source": [
    "plt.boxplot((v_1, v_2));"
   ]
  },
  {
   "cell_type": "code",
   "execution_count": 38,
   "metadata": {},
   "outputs": [
    {
     "data": {
      "text/plain": [
       "MannwhitneyuResult(statistic=65225.0, pvalue=4.843290943900468e-91)"
      ]
     },
     "execution_count": 38,
     "metadata": {},
     "output_type": "execute_result"
    }
   ],
   "source": [
    "stats.mannwhitneyu(v_1, v_2)"
   ]
  },
  {
   "cell_type": "code",
   "execution_count": 40,
   "metadata": {},
   "outputs": [
    {
     "name": "stderr",
     "output_type": "stream",
     "text": [
      "/usr/local/lib/python3.6/dist-packages/ipykernel_launcher.py:4: FutureWarning: Method .as_matrix will be removed in a future version. Use .values instead.\n",
      "  after removing the cwd from sys.path.\n"
     ]
    },
    {
     "data": {
      "text/plain": [
       "8588.923733265037"
      ]
     },
     "execution_count": 40,
     "metadata": {},
     "output_type": "execute_result"
    }
   ],
   "source": [
    "sigma[4:] = 0\n",
    "data = np.matmul(u, np.diag(sigma))\n",
    "data = np.matmul(data, v_t)\n",
    "np.max(np.abs(data - volume_cryptos.as_matrix()))"
   ]
  }
 ],
 "metadata": {
  "kernelspec": {
   "display_name": "Python 3",
   "language": "python",
   "name": "python3"
  },
  "language_info": {
   "codemirror_mode": {
    "name": "ipython",
    "version": 3
   },
   "file_extension": ".py",
   "mimetype": "text/x-python",
   "name": "python",
   "nbconvert_exporter": "python",
   "pygments_lexer": "ipython3",
   "version": "3.6.9"
  }
 },
 "nbformat": 4,
 "nbformat_minor": 2
}
